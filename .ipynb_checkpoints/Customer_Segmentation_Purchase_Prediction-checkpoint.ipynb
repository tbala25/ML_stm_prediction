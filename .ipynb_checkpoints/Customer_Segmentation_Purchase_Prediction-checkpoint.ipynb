{
 "cells": [
  {
   "cell_type": "code",
   "execution_count": 1,
   "metadata": {},
   "outputs": [],
   "source": [
    "#######################################\n",
    "########## IMPORTS ####################\n",
    "from localLibrary_AWSConnector import *\n",
    "import pandas as pd\n",
    "import numpy as np\n",
    "from sklearn.preprocessing import StandardScaler\n",
    "from sklearn.decomposition import PCA\n",
    "from sklearn import cluster\n",
    "from sklearn.metrics import silhouette_samples, silhouette_score\n",
    "import matplotlib.pyplot as plt\n"
   ]
  },
  {
   "cell_type": "markdown",
   "metadata": {},
   "source": [
    "# Data Cleaning & Exploration"
   ]
  },
  {
   "cell_type": "code",
   "execution_count": 2,
   "metadata": {},
   "outputs": [],
   "source": [
    "#HELPER FUNCTIONS\n",
    "def get_data_s3():\n",
    "    data_list = []\n",
    "    data_dict = {}\n",
    "\n",
    "    # Iterate through all buckets\n",
    "    for bucket in s3.buckets.all():\n",
    "        # Iterate through all items\n",
    "        for obj in s3.Bucket(bucket.name).objects.all():\n",
    "            if('data/' in obj.key and obj.key != 'data/'):\n",
    "                data_list.append(obj.key)\n",
    "                \n",
    "                # Save STM files as DataFrames\n",
    "                #if('STM' in obj.key and 'non' not in obj.key): \n",
    "                objct = s3.Bucket(bucket.name).Object(obj.key).get()\n",
    "                data_dict[obj.key] = pd.read_csv(objct['Body'], index_col=0)\n",
    "\n",
    "    print(data_list)\n",
    "    \n",
    "    return data_dict\n",
    "\n",
    "def _convert_time_to_int(time):\n",
    "    #print(time)\n",
    "    if time != time:\n",
    "        return None\n",
    "    else:\n",
    "        return int(''.join(c for c in time if c.isdigit()))\n",
    "    \n",
    "def convert_time_int(df):\n",
    "    \n",
    "    df['EarliestCRM_int'] = [_convert_time_to_int(x) for x in df['EarliestCRM']]\n",
    "    df['LatestCRM_int'] = [_convert_time_to_int(x) for x in df['LatestCRM']]\n",
    "\n",
    "    df['LatestSeatGeek_int'] = [_convert_time_to_int(x) for x in df['LatestSeatGeekDate']]\n",
    "    df['EarliestSeatGeek_int'] = [_convert_time_to_int(x) for x in df['EarliestSeatGeekDate']]\n",
    "\n",
    "    df['EarliestMarketo_int'] = [_convert_time_to_int(x) for x in df['EarliestMarketoDate']]\n",
    "    df['LatestMarketo_int'] = [_convert_time_to_int(x) for x in df['LatestMarketoDate']]\n",
    "\n",
    "    df['EarliestFanatics_int'] = [_convert_time_to_int(x) for x in df['EarliestFanaticsDate']]\n",
    "    df['LatestFanatics_int'] = [_convert_time_to_int(x) for x in df['LatestFanaticsDate']]\n",
    "\n",
    "    df['EarliestYinzcam_int'] = [_convert_time_to_int(x) for x in df['EarliestYinzcamDate']]\n",
    "    df['LatestYinzcam_int'] = [_convert_time_to_int(x) for x in df['LatestYinzcamDate']]\n",
    "    \n",
    "    return df"
   ]
  },
  {
   "cell_type": "code",
   "execution_count": 3,
   "metadata": {},
   "outputs": [
    {
     "name": "stdout",
     "output_type": "stream",
     "text": [
      "['data/CRM_STM.csv', 'data/CRM_lost.csv', 'data/CRM_nonSTM.csv', 'data/FTS_STM.csv', 'data/FTS_lost.csv', 'data/FTS_nonSTM.csv', 'data/MK_STM.csv', 'data/MK_lost.csv', 'data/MK_nonSTM.csv', 'data/SG_STM.csv', 'data/SG_lost.csv', 'data/SG_nonSTM.csv', 'data/YZ_STM.csv', 'data/YZ_lost.csv', 'data/YZ_nonSTM.csv']\n"
     ]
    }
   ],
   "source": [
    "all_data = get_data_s3()"
   ]
  },
  {
   "cell_type": "code",
   "execution_count": 4,
   "metadata": {},
   "outputs": [
    {
     "data": {
      "text/plain": [
       "dict_keys(['data/CRM_STM.csv', 'data/CRM_lost.csv', 'data/CRM_nonSTM.csv', 'data/FTS_STM.csv', 'data/FTS_lost.csv', 'data/FTS_nonSTM.csv', 'data/MK_STM.csv', 'data/MK_lost.csv', 'data/MK_nonSTM.csv', 'data/SG_STM.csv', 'data/SG_lost.csv', 'data/SG_nonSTM.csv', 'data/YZ_STM.csv', 'data/YZ_lost.csv', 'data/YZ_nonSTM.csv'])"
      ]
     },
     "execution_count": 4,
     "metadata": {},
     "output_type": "execute_result"
    }
   ],
   "source": [
    "all_data.keys()"
   ]
  },
  {
   "cell_type": "code",
   "execution_count": 5,
   "metadata": {
    "scrolled": true
   },
   "outputs": [
    {
     "name": "stdout",
     "output_type": "stream",
     "text": [
      "data/CRM_STM.csv\n",
      "        TotalCRMActivityVolume          EarliestCRM            LatestCRM\n",
      "count              3149.000000                 3149                 3149\n",
      "unique                     NaN                 2016                 3107\n",
      "top                        NaN  2009-05-21 01:29:13  2009-05-21 01:29:13\n",
      "freq                       NaN                  916                   25\n",
      "mean                 12.091458                  NaN                  NaN\n",
      "std                  10.898481                  NaN                  NaN\n",
      "min                   1.000000                  NaN                  NaN\n",
      "25%                   3.000000                  NaN                  NaN\n",
      "50%                   8.000000                  NaN                  NaN\n",
      "75%                  20.000000                  NaN                  NaN\n",
      "max                  94.000000                  NaN                  NaN\n",
      "=====================================================\n",
      "data/CRM_lost.csv\n",
      "        TotalCRMActivityVolume          EarliestCRM            LatestCRM\n",
      "count             78217.000000                78217                78217\n",
      "unique                     NaN                50287                55981\n",
      "top                        NaN  2009-05-21 01:29:13  2009-05-21 01:29:13\n",
      "freq                       NaN                11706                 6844\n",
      "mean                  3.399696                  NaN                  NaN\n",
      "std                   5.541353                  NaN                  NaN\n",
      "min                   1.000000                  NaN                  NaN\n",
      "25%                   1.000000                  NaN                  NaN\n",
      "50%                   2.000000                  NaN                  NaN\n",
      "75%                   4.000000                  NaN                  NaN\n",
      "max                 276.000000                  NaN                  NaN\n",
      "=====================================================\n",
      "data/CRM_nonSTM.csv\n",
      "        TotalCRMActivityVolume          EarliestCRM            LatestCRM\n",
      "count             1.402600e+06              1402600              1402600\n",
      "unique                     NaN               606472               639963\n",
      "top                        NaN  2009-05-21 01:29:13  2009-05-21 01:29:13\n",
      "freq                       NaN               112866                98219\n",
      "mean              1.465486e+00                  NaN                  NaN\n",
      "std               2.697164e+00                  NaN                  NaN\n",
      "min               1.000000e+00                  NaN                  NaN\n",
      "25%               1.000000e+00                  NaN                  NaN\n",
      "50%               1.000000e+00                  NaN                  NaN\n",
      "75%               1.000000e+00                  NaN                  NaN\n",
      "max               2.880000e+02                  NaN                  NaN\n",
      "=====================================================\n",
      "data/FTS_STM.csv\n",
      "        TotalFanaticsTransactions  TotalFanaticsProductQty  \\\n",
      "count                  172.000000               172.000000   \n",
      "unique                        NaN                      NaN   \n",
      "top                           NaN                      NaN   \n",
      "freq                          NaN                      NaN   \n",
      "mean                     2.866279                 3.017442   \n",
      "std                      2.371769                 2.636837   \n",
      "min                      1.000000                 1.000000   \n",
      "25%                      1.000000                 1.000000   \n",
      "50%                      2.000000                 2.000000   \n",
      "75%                      4.000000                 4.000000   \n",
      "max                     15.000000                17.000000   \n",
      "\n",
      "        TotalFanaticsDollarValue EarliestFanaticsDate LatestFanaticsDate  \n",
      "count                 172.000000                  172                172  \n",
      "unique                       NaN                  129                133  \n",
      "top                          NaN           2017-11-27         2018-11-09  \n",
      "freq                         NaN                    6                  5  \n",
      "mean                  102.882616                  NaN                NaN  \n",
      "std                    88.342622                  NaN                NaN  \n",
      "min                     5.690000                  NaN                NaN  \n",
      "25%                    43.727500                  NaN                NaN  \n",
      "50%                    75.625000                  NaN                NaN  \n",
      "75%                   140.480000                  NaN                NaN  \n",
      "max                   634.890000                  NaN                NaN  \n",
      "=====================================================\n",
      "data/FTS_lost.csv\n",
      "        TotalFanaticsTransactions  TotalFanaticsProductQty  \\\n",
      "count                 2513.000000              2513.000000   \n",
      "unique                        NaN                      NaN   \n",
      "top                           NaN                      NaN   \n",
      "freq                          NaN                      NaN   \n",
      "mean                     2.379626                 2.474333   \n",
      "std                      2.726217                 2.975657   \n",
      "min                      1.000000                 1.000000   \n",
      "25%                      1.000000                 1.000000   \n",
      "50%                      2.000000                 2.000000   \n",
      "75%                      3.000000                 3.000000   \n",
      "max                     34.000000                34.000000   \n",
      "\n",
      "        TotalFanaticsDollarValue EarliestFanaticsDate LatestFanaticsDate  \n",
      "count                2513.000000                 2513               2513  \n",
      "unique                       NaN                  827                813  \n",
      "top                          NaN           2019-12-02         2019-12-02  \n",
      "freq                         NaN                   32                 37  \n",
      "mean                   87.812049                  NaN                NaN  \n",
      "std                   109.091848                  NaN                NaN  \n",
      "min                     1.490000                  NaN                NaN  \n",
      "25%                    31.990000                  NaN                NaN  \n",
      "50%                    58.980000                  NaN                NaN  \n",
      "75%                   109.980000                  NaN                NaN  \n",
      "max                  1375.680000                  NaN                NaN  \n",
      "=====================================================\n",
      "data/FTS_nonSTM.csv\n",
      "        TotalFanaticsTransactions  TotalFanaticsProductQty  \\\n",
      "count                44350.000000              44350.00000   \n",
      "unique                        NaN                      NaN   \n",
      "top                           NaN                      NaN   \n",
      "freq                          NaN                      NaN   \n",
      "mean                     1.704758                  1.76611   \n",
      "std                      1.883433                  2.16510   \n",
      "min                      1.000000                  1.00000   \n",
      "25%                      1.000000                  1.00000   \n",
      "50%                      1.000000                  1.00000   \n",
      "75%                      2.000000                  2.00000   \n",
      "max                     92.000000                133.00000   \n",
      "\n",
      "        TotalFanaticsDollarValue EarliestFanaticsDate LatestFanaticsDate  \n",
      "count               44350.000000                44350              44350  \n",
      "unique                       NaN                 1144               1147  \n",
      "top                          NaN           2019-12-02         2019-12-02  \n",
      "freq                         NaN                  625                654  \n",
      "mean                   68.908592                  NaN                NaN  \n",
      "std                    90.070007                  NaN                NaN  \n",
      "min                     1.490000                  NaN                NaN  \n",
      "25%                    29.990000                  NaN                NaN  \n",
      "50%                    49.990000                  NaN                NaN  \n",
      "75%                    75.980000                  NaN                NaN  \n",
      "max                  3920.870000                  NaN                NaN  \n",
      "=====================================================\n",
      "data/MK_STM.csv\n",
      "        TotalMarketoVolume  EarliestMarketoDate    LatestMarketoDate\n",
      "count          2978.000000                 2978                 2978\n",
      "unique                 NaN                 2867                 2973\n",
      "top                    NaN  2015-11-04 23:16:06  2017-09-29 17:04:48\n",
      "freq                   NaN                    8                    3\n",
      "mean             79.479516                  NaN                  NaN\n",
      "std              87.876997                  NaN                  NaN\n",
      "min               1.000000                  NaN                  NaN\n",
      "25%              15.000000                  NaN                  NaN\n",
      "50%              47.000000                  NaN                  NaN\n",
      "75%             121.000000                  NaN                  NaN\n",
      "max            1697.000000                  NaN                  NaN\n",
      "=====================================================\n",
      "data/MK_lost.csv\n"
     ]
    },
    {
     "name": "stdout",
     "output_type": "stream",
     "text": [
      "        TotalMarketoVolume  EarliestMarketoDate    LatestMarketoDate\n",
      "count         59689.000000                59689                59689\n",
      "unique                 NaN                56621                56727\n",
      "top                    NaN  2017-02-14 17:40:22  2020-08-18 19:41:43\n",
      "freq                   NaN                   26                   14\n",
      "mean             39.566537                  NaN                  NaN\n",
      "std              96.149646                  NaN                  NaN\n",
      "min               1.000000                  NaN                  NaN\n",
      "25%               5.000000                  NaN                  NaN\n",
      "50%              15.000000                  NaN                  NaN\n",
      "75%              42.000000                  NaN                  NaN\n",
      "max           11706.000000                  NaN                  NaN\n",
      "=====================================================\n",
      "data/MK_nonSTM.csv\n",
      "        TotalMarketoVolume  EarliestMarketoDate    LatestMarketoDate\n",
      "count        598696.000000               598696               598696\n",
      "unique                 NaN               471287               458511\n",
      "top                    NaN  2019-09-05 19:25:19  2020-03-05 19:56:35\n",
      "freq                   NaN                  722                  351\n",
      "mean             17.920836                  NaN                  NaN\n",
      "std              57.317458                  NaN                  NaN\n",
      "min               1.000000                  NaN                  NaN\n",
      "25%               2.000000                  NaN                  NaN\n",
      "50%               5.000000                  NaN                  NaN\n",
      "75%              14.000000                  NaN                  NaN\n",
      "max           20309.000000                  NaN                  NaN\n",
      "=====================================================\n",
      "data/SG_STM.csv\n",
      "       cjsgActivityType cjsgSecondaryTicketType  TotalSeatGeekTransactions  \\\n",
      "count              2230                    2230                2230.000000   \n",
      "unique                2                       3                        NaN   \n",
      "top            Purchase                 Primary                        NaN   \n",
      "freq               2103                    1823                        NaN   \n",
      "mean                NaN                     NaN                   4.432287   \n",
      "std                 NaN                     NaN                  10.352844   \n",
      "min                 NaN                     NaN                   1.000000   \n",
      "25%                 NaN                     NaN                   1.000000   \n",
      "50%                 NaN                     NaN                   1.000000   \n",
      "75%                 NaN                     NaN                   2.000000   \n",
      "max                 NaN                     NaN                 122.000000   \n",
      "\n",
      "        TotalTicketVolume  TotalScannedTicketVolume  TotalTicketDollarValue  \\\n",
      "count         2230.000000               2230.000000             2230.000000   \n",
      "unique                NaN                       NaN                     NaN   \n",
      "top                   NaN                       NaN                     NaN   \n",
      "freq                  NaN                       NaN                     NaN   \n",
      "mean             9.057848                  2.833632              360.323318   \n",
      "std             25.837150                 11.692932             2332.295048   \n",
      "min              1.000000                  0.000000                0.000000   \n",
      "25%              2.000000                  0.000000                0.000000   \n",
      "50%              2.000000                  0.000000                0.000000   \n",
      "75%              4.000000                  0.000000               10.000000   \n",
      "max            431.000000                296.000000            61115.000000   \n",
      "\n",
      "           EarliestSeatGeekDate       LatestSeatGeekDate  \n",
      "count                      2230                     2230  \n",
      "unique                     2230                     2230  \n",
      "top     2018-02-15 16:40:32.843  2018-02-15 16:44:17.810  \n",
      "freq                          1                        1  \n",
      "mean                        NaN                      NaN  \n",
      "std                         NaN                      NaN  \n",
      "min                         NaN                      NaN  \n",
      "25%                         NaN                      NaN  \n",
      "50%                         NaN                      NaN  \n",
      "75%                         NaN                      NaN  \n",
      "max                         NaN                      NaN  \n",
      "=====================================================\n",
      "data/SG_lost.csv\n",
      "       cjsgActivityType cjsgSecondaryTicketType  TotalSeatGeekTransactions  \\\n",
      "count             20101                   20101               20101.000000   \n",
      "unique                2                       4                        NaN   \n",
      "top            Purchase                  Resale                        NaN   \n",
      "freq              17588                    9749                        NaN   \n",
      "mean                NaN                     NaN                   3.898314   \n",
      "std                 NaN                     NaN                  15.102746   \n",
      "min                 NaN                     NaN                   1.000000   \n",
      "25%                 NaN                     NaN                   1.000000   \n",
      "50%                 NaN                     NaN                   1.000000   \n",
      "75%                 NaN                     NaN                   2.000000   \n",
      "max                 NaN                     NaN                 740.000000   \n",
      "\n",
      "        TotalTicketVolume  TotalScannedTicketVolume  TotalTicketDollarValue  \\\n",
      "count        20101.000000              20073.000000            2.010100e+04   \n",
      "unique                NaN                       NaN                     NaN   \n",
      "top                   NaN                       NaN                     NaN   \n",
      "freq                  NaN                       NaN                     NaN   \n",
      "mean             9.754987                  5.478753            5.993770e+02   \n",
      "std             74.175529                 38.006962            1.206217e+04   \n",
      "min              1.000000                  0.000000            0.000000e+00   \n",
      "25%              2.000000                  0.000000            0.000000e+00   \n",
      "50%              3.000000                  2.000000            6.600000e+01   \n",
      "75%              5.000000                  4.000000            2.000000e+02   \n",
      "max           5875.000000               2956.000000            1.236130e+06   \n",
      "\n",
      "           EarliestSeatGeekDate       LatestSeatGeekDate  \n",
      "count                     20101                    20101  \n",
      "unique                    20077                    20079  \n",
      "top     2018-10-18 14:30:19.000  2018-10-18 14:30:19.000  \n",
      "freq                          3                        3  \n",
      "mean                        NaN                      NaN  \n",
      "std                         NaN                      NaN  \n",
      "min                         NaN                      NaN  \n",
      "25%                         NaN                      NaN  \n",
      "50%                         NaN                      NaN  \n",
      "75%                         NaN                      NaN  \n",
      "max                         NaN                      NaN  \n",
      "=====================================================\n",
      "data/SG_nonSTM.csv\n",
      "       cjsgActivityType cjsgSecondaryTicketType  TotalSeatGeekTransactions  \\\n",
      "count            127305                  127305              127305.000000   \n",
      "unique                2                       4                        NaN   \n",
      "top            Purchase                  Resale                        NaN   \n",
      "freq             111137                   57933                        NaN   \n",
      "mean                NaN                     NaN                   5.313970   \n",
      "std                 NaN                     NaN                  46.520813   \n",
      "min                 NaN                     NaN                   1.000000   \n",
      "25%                 NaN                     NaN                   1.000000   \n",
      "50%                 NaN                     NaN                   1.000000   \n",
      "75%                 NaN                     NaN                   2.000000   \n",
      "max                 NaN                     NaN               15219.000000   \n",
      "\n",
      "        TotalTicketVolume  TotalScannedTicketVolume  TotalTicketDollarValue  \\\n",
      "count       127305.000000             126947.000000            1.273050e+05   \n",
      "unique                NaN                       NaN                     NaN   \n",
      "top                   NaN                       NaN                     NaN   \n",
      "freq                  NaN                       NaN                     NaN   \n",
      "mean            15.468214                  8.723073            1.065217e+03   \n",
      "std            456.880825                262.143849            2.764944e+04   \n",
      "min              1.000000                  0.000000            0.000000e+00   \n",
      "25%              2.000000                  0.000000            0.000000e+00   \n",
      "50%              2.000000                  2.000000            6.700000e+01   \n",
      "75%              4.000000                  4.000000            2.400000e+02   \n",
      "max         151064.000000              86941.000000            7.604809e+06   \n",
      "\n",
      "           EarliestSeatGeekDate       LatestSeatGeekDate  \n",
      "count                    127305                   127305  \n",
      "unique                   126668                   126573  \n",
      "top     2018-10-18 14:30:19.000  2018-10-19 12:08:35.000  \n",
      "freq                          6                        6  \n",
      "mean                        NaN                      NaN  \n",
      "std                         NaN                      NaN  \n",
      "min                         NaN                      NaN  \n",
      "25%                         NaN                      NaN  \n",
      "50%                         NaN                      NaN  \n",
      "75%                         NaN                      NaN  \n",
      "max                         NaN                      NaN  \n",
      "=====================================================\n",
      "data/YZ_STM.csv\n",
      "        TotalYinzcamVolume  EarliestYinzcamDate    LatestYinzcamDate\n",
      "count            68.000000                   68                   68\n",
      "unique                 NaN                   68                   68\n",
      "top                    NaN  2017-01-03 23:09:29  2017-02-26 04:25:07\n",
      "freq                   NaN                    1                    1\n",
      "mean             58.029412                  NaN                  NaN\n",
      "std              71.293794                  NaN                  NaN\n",
      "min               2.000000                  NaN                  NaN\n",
      "25%              12.000000                  NaN                  NaN\n",
      "50%              25.500000                  NaN                  NaN\n",
      "75%              70.500000                  NaN                  NaN\n",
      "max             313.000000                  NaN                  NaN\n",
      "=====================================================\n",
      "data/YZ_lost.csv\n",
      "        TotalYinzcamVolume  EarliestYinzcamDate    LatestYinzcamDate\n",
      "count          1144.000000                 1144                 1144\n",
      "unique                 NaN                 1140                 1136\n",
      "top                    NaN  2019-09-30 17:10:58  2020-08-15 18:57:34\n",
      "freq                   NaN                    2                    2\n",
      "mean            265.079545                  NaN                  NaN\n",
      "std             548.136238                  NaN                  NaN\n",
      "min               1.000000                  NaN                  NaN\n",
      "25%              26.000000                  NaN                  NaN\n",
      "50%              84.500000                  NaN                  NaN\n",
      "75%             245.000000                  NaN                  NaN\n",
      "max            6423.000000                  NaN                  NaN\n",
      "=====================================================\n",
      "data/YZ_nonSTM.csv\n",
      "        TotalYinzcamVolume  EarliestYinzcamDate    LatestYinzcamDate\n",
      "count          8356.000000                 8356                 8356\n",
      "unique                 NaN                 8268                 8222\n",
      "top                    NaN  2019-09-30 17:10:58  2020-08-15 16:46:56\n",
      "freq                   NaN                    5                    7\n",
      "mean            259.637267                  NaN                  NaN\n",
      "std            3392.920445                  NaN                  NaN\n",
      "min               1.000000                  NaN                  NaN\n",
      "25%              20.000000                  NaN                  NaN\n",
      "50%              68.000000                  NaN                  NaN\n",
      "75%             208.000000                  NaN                  NaN\n",
      "max          307520.000000                  NaN                  NaN\n",
      "=====================================================\n"
     ]
    }
   ],
   "source": [
    "for key in all_data.keys():\n",
    "    print(key)\n",
    "    print(all_data[key].describe(include='all'))\n",
    "    print(\"=====================================================\")"
   ]
  },
  {
   "cell_type": "code",
   "execution_count": 6,
   "metadata": {},
   "outputs": [],
   "source": [
    "#MERGE all DF for STM\n",
    "STM = None\n",
    "nonSTM = None\n",
    "lost = None\n",
    "\n",
    "\n",
    "for key in all_data.keys():\n",
    "    df = all_data[key]\n",
    "    how = 'outer'\n",
    "    if 'SG' in key:\n",
    "        pivoted = pd.pivot_table(all_data[key], values=['TotalSeatGeekTransactions', 'TotalTicketVolume', 'TotalScannedTicketVolume', 'TotalTicketDollarValue'], index=['SSB_CRMSYSTEM_CONTACT_ID'],\n",
    "                    columns=['cjsgActivityType', 'cjsgSecondaryTicketType'], aggfunc=np.sum)\n",
    "        df = pd.DataFrame(pivoted.to_records())\n",
    "        sg = pd.DataFrame()\n",
    "        sg['SSB_CRMSYSTEM_CONTACT_ID'] = df['SSB_CRMSYSTEM_CONTACT_ID']\n",
    "        sg['total_scanned'] = df[\"('TotalScannedTicketVolume', 'Purchase', 'Primary')\"] + df[\"('TotalScannedTicketVolume', 'Purchase', 'Resale')\"] + df[\"('TotalScannedTicketVolume', 'Purchase', 'Transfer')\"]\n",
    "\n",
    "        sg['primary_purchase_transactions'] = df[\"('TotalSeatGeekTransactions', 'Purchase', 'Primary')\"]\n",
    "        sg['secondary_purchase_transactions'] = df[\"('TotalSeatGeekTransactions', 'Purchase', 'Resale')\"] + df[\"('TotalSeatGeekTransactions', 'Purchase', 'Transfer')\"]\n",
    "        sg['secondary_sell_transactions'] = df[\"('TotalSeatGeekTransactions', 'Sell', 'Resale')\"] + df[\"('TotalSeatGeekTransactions', 'Sell', 'Transfer')\"]\n",
    "\n",
    "        sg['primary_purchase_dollars'] = df[\"('TotalTicketDollarValue', 'Purchase', 'Primary')\"]\n",
    "        sg['secondary_purchase_dollars'] = df[\"('TotalTicketDollarValue', 'Purchase', 'Resale')\"] + df[\"('TotalTicketDollarValue', 'Purchase', 'Transfer')\"]\n",
    "        sg['secondary_sell_dollars'] = df[\"('TotalTicketDollarValue', 'Sell', 'Resale')\"] + df[\"('TotalTicketDollarValue', 'Sell', 'Transfer')\"]\n",
    "\n",
    "        sg['primary_purchase_tickets'] = df[\"('TotalTicketVolume', 'Purchase', 'Primary')\"]\n",
    "        sg['secondary_purchase_tickets'] = df[\"('TotalTicketVolume', 'Purchase', 'Resale')\"] + df[\"('TotalTicketVolume', 'Purchase', 'Transfer')\"]\n",
    "        sg['secondary_sell_tickets'] = df[\"('TotalTicketVolume', 'Sell', 'Resale')\"] + df[\"('TotalTicketVolume', 'Sell', 'Transfer')\"]\n",
    "        \n",
    "        df = sg\n",
    "        df = df.merge(all_data[key][['EarliestSeatGeekDate' ,'LatestSeatGeekDate']], on = 'SSB_CRMSYSTEM_CONTACT_ID')\n",
    "        how = 'right'\n",
    "        \n",
    "    if('STM' in key and 'non' not in key): \n",
    "        if STM is None:\n",
    "            STM = df\n",
    "        else:\n",
    "            STM = STM.merge(df, how = how, on = 'SSB_CRMSYSTEM_CONTACT_ID')\n",
    "    elif('non' in key): \n",
    "        if nonSTM is None:\n",
    "            nonSTM = df\n",
    "        else:\n",
    "            nonSTM = nonSTM.merge(df, how = how, on = 'SSB_CRMSYSTEM_CONTACT_ID')\n",
    "    elif('lost' in key): \n",
    "        if lost is None:\n",
    "            lost = df\n",
    "        else:\n",
    "            lost = lost.merge(df, how = how, on = 'SSB_CRMSYSTEM_CONTACT_ID')\n",
    "    else:\n",
    "        pass"
   ]
  },
  {
   "cell_type": "code",
   "execution_count": 7,
   "metadata": {},
   "outputs": [],
   "source": [
    "stm_null = pd.DataFrame(STM.isna().sum()/len(STM), columns = ['STM_Pct_Null'])\n",
    "nonstm_null = pd.DataFrame(nonSTM.isna().sum()/len(nonSTM), columns = ['nonSTM_Pct_Null'])\n",
    "lost_null = pd.DataFrame(lost.isna().sum()/len(lost), columns = ['lost_Pct_Null'])\n",
    "\n",
    "all_null = stm_null.merge(nonstm_null.merge(lost_null, left_index=True, right_index=True), left_index=True, right_index=True)"
   ]
  },
  {
   "cell_type": "code",
   "execution_count": 8,
   "metadata": {},
   "outputs": [],
   "source": [
    "STM = convert_time_int(STM)\n",
    "nonSTM = convert_time_int(nonSTM)\n",
    "lost = convert_time_int(lost)\n"
   ]
  },
  {
   "cell_type": "code",
   "execution_count": 9,
   "metadata": {},
   "outputs": [
    {
     "name": "stdout",
     "output_type": "stream",
     "text": [
      "STM Length: 2250\n",
      "nonSTM Length: 133188\n",
      "lost Length: 20669\n"
     ]
    }
   ],
   "source": [
    "print(f\"STM Length: {len(STM)}\")\n",
    "print(f\"nonSTM Length: {len(nonSTM)}\")\n",
    "print(f\"lost Length: {len(lost)}\")\n"
   ]
  },
  {
   "cell_type": "code",
   "execution_count": 10,
   "metadata": {},
   "outputs": [
    {
     "data": {
      "text/html": [
       "<div>\n",
       "<style scoped>\n",
       "    .dataframe tbody tr th:only-of-type {\n",
       "        vertical-align: middle;\n",
       "    }\n",
       "\n",
       "    .dataframe tbody tr th {\n",
       "        vertical-align: top;\n",
       "    }\n",
       "\n",
       "    .dataframe thead th {\n",
       "        text-align: right;\n",
       "    }\n",
       "</style>\n",
       "<table border=\"1\" class=\"dataframe\">\n",
       "  <thead>\n",
       "    <tr style=\"text-align: right;\">\n",
       "      <th></th>\n",
       "      <th>STM_Pct_Null</th>\n",
       "      <th>nonSTM_Pct_Null</th>\n",
       "      <th>lost_Pct_Null</th>\n",
       "    </tr>\n",
       "  </thead>\n",
       "  <tbody>\n",
       "    <tr>\n",
       "      <th>SSB_CRMSYSTEM_CONTACT_ID</th>\n",
       "      <td>0.000000</td>\n",
       "      <td>0.000008</td>\n",
       "      <td>0.000000</td>\n",
       "    </tr>\n",
       "    <tr>\n",
       "      <th>LatestSeatGeekDate</th>\n",
       "      <td>0.008889</td>\n",
       "      <td>0.044171</td>\n",
       "      <td>0.027481</td>\n",
       "    </tr>\n",
       "    <tr>\n",
       "      <th>EarliestSeatGeekDate</th>\n",
       "      <td>0.008889</td>\n",
       "      <td>0.044171</td>\n",
       "      <td>0.027481</td>\n",
       "    </tr>\n",
       "    <tr>\n",
       "      <th>primary_purchase_tickets</th>\n",
       "      <td>0.080000</td>\n",
       "      <td>0.575390</td>\n",
       "      <td>0.534665</td>\n",
       "    </tr>\n",
       "    <tr>\n",
       "      <th>primary_purchase_dollars</th>\n",
       "      <td>0.080000</td>\n",
       "      <td>0.575390</td>\n",
       "      <td>0.534665</td>\n",
       "    </tr>\n",
       "    <tr>\n",
       "      <th>primary_purchase_transactions</th>\n",
       "      <td>0.080000</td>\n",
       "      <td>0.575390</td>\n",
       "      <td>0.534665</td>\n",
       "    </tr>\n",
       "    <tr>\n",
       "      <th>TotalCRMActivityVolume</th>\n",
       "      <td>0.103556</td>\n",
       "      <td>0.203840</td>\n",
       "      <td>0.041270</td>\n",
       "    </tr>\n",
       "    <tr>\n",
       "      <th>EarliestCRM</th>\n",
       "      <td>0.103556</td>\n",
       "      <td>0.203840</td>\n",
       "      <td>0.041270</td>\n",
       "    </tr>\n",
       "    <tr>\n",
       "      <th>LatestCRM</th>\n",
       "      <td>0.103556</td>\n",
       "      <td>0.203840</td>\n",
       "      <td>0.041270</td>\n",
       "    </tr>\n",
       "    <tr>\n",
       "      <th>TotalMarketoVolume</th>\n",
       "      <td>0.126667</td>\n",
       "      <td>0.345857</td>\n",
       "      <td>0.142048</td>\n",
       "    </tr>\n",
       "    <tr>\n",
       "      <th>EarliestMarketoDate</th>\n",
       "      <td>0.126667</td>\n",
       "      <td>0.345857</td>\n",
       "      <td>0.142048</td>\n",
       "    </tr>\n",
       "    <tr>\n",
       "      <th>LatestMarketoDate</th>\n",
       "      <td>0.126667</td>\n",
       "      <td>0.345857</td>\n",
       "      <td>0.142048</td>\n",
       "    </tr>\n",
       "    <tr>\n",
       "      <th>TotalFanaticsDollarValue</th>\n",
       "      <td>0.935556</td>\n",
       "      <td>0.951077</td>\n",
       "      <td>0.929556</td>\n",
       "    </tr>\n",
       "    <tr>\n",
       "      <th>TotalFanaticsProductQty</th>\n",
       "      <td>0.935556</td>\n",
       "      <td>0.951077</td>\n",
       "      <td>0.929556</td>\n",
       "    </tr>\n",
       "    <tr>\n",
       "      <th>TotalFanaticsTransactions</th>\n",
       "      <td>0.935556</td>\n",
       "      <td>0.951077</td>\n",
       "      <td>0.929556</td>\n",
       "    </tr>\n",
       "    <tr>\n",
       "      <th>LatestFanaticsDate</th>\n",
       "      <td>0.935556</td>\n",
       "      <td>0.951077</td>\n",
       "      <td>0.929556</td>\n",
       "    </tr>\n",
       "    <tr>\n",
       "      <th>EarliestFanaticsDate</th>\n",
       "      <td>0.935556</td>\n",
       "      <td>0.951077</td>\n",
       "      <td>0.929556</td>\n",
       "    </tr>\n",
       "    <tr>\n",
       "      <th>secondary_purchase_dollars</th>\n",
       "      <td>0.961333</td>\n",
       "      <td>0.934228</td>\n",
       "      <td>0.886884</td>\n",
       "    </tr>\n",
       "    <tr>\n",
       "      <th>secondary_purchase_tickets</th>\n",
       "      <td>0.961333</td>\n",
       "      <td>0.934228</td>\n",
       "      <td>0.886884</td>\n",
       "    </tr>\n",
       "    <tr>\n",
       "      <th>secondary_purchase_transactions</th>\n",
       "      <td>0.961333</td>\n",
       "      <td>0.934228</td>\n",
       "      <td>0.886884</td>\n",
       "    </tr>\n",
       "    <tr>\n",
       "      <th>EarliestYinzcamDate</th>\n",
       "      <td>0.965333</td>\n",
       "      <td>0.915886</td>\n",
       "      <td>0.917509</td>\n",
       "    </tr>\n",
       "    <tr>\n",
       "      <th>TotalYinzcamVolume</th>\n",
       "      <td>0.965333</td>\n",
       "      <td>0.915886</td>\n",
       "      <td>0.917509</td>\n",
       "    </tr>\n",
       "    <tr>\n",
       "      <th>LatestYinzcamDate</th>\n",
       "      <td>0.965333</td>\n",
       "      <td>0.915886</td>\n",
       "      <td>0.917509</td>\n",
       "    </tr>\n",
       "    <tr>\n",
       "      <th>secondary_sell_transactions</th>\n",
       "      <td>0.969778</td>\n",
       "      <td>0.938463</td>\n",
       "      <td>0.947603</td>\n",
       "    </tr>\n",
       "    <tr>\n",
       "      <th>secondary_sell_dollars</th>\n",
       "      <td>0.969778</td>\n",
       "      <td>0.938463</td>\n",
       "      <td>0.947603</td>\n",
       "    </tr>\n",
       "    <tr>\n",
       "      <th>secondary_sell_tickets</th>\n",
       "      <td>0.969778</td>\n",
       "      <td>0.938463</td>\n",
       "      <td>0.947603</td>\n",
       "    </tr>\n",
       "    <tr>\n",
       "      <th>total_scanned</th>\n",
       "      <td>0.972444</td>\n",
       "      <td>0.966071</td>\n",
       "      <td>0.942087</td>\n",
       "    </tr>\n",
       "  </tbody>\n",
       "</table>\n",
       "</div>"
      ],
      "text/plain": [
       "                                 STM_Pct_Null  nonSTM_Pct_Null  lost_Pct_Null\n",
       "SSB_CRMSYSTEM_CONTACT_ID             0.000000         0.000008       0.000000\n",
       "LatestSeatGeekDate                   0.008889         0.044171       0.027481\n",
       "EarliestSeatGeekDate                 0.008889         0.044171       0.027481\n",
       "primary_purchase_tickets             0.080000         0.575390       0.534665\n",
       "primary_purchase_dollars             0.080000         0.575390       0.534665\n",
       "primary_purchase_transactions        0.080000         0.575390       0.534665\n",
       "TotalCRMActivityVolume               0.103556         0.203840       0.041270\n",
       "EarliestCRM                          0.103556         0.203840       0.041270\n",
       "LatestCRM                            0.103556         0.203840       0.041270\n",
       "TotalMarketoVolume                   0.126667         0.345857       0.142048\n",
       "EarliestMarketoDate                  0.126667         0.345857       0.142048\n",
       "LatestMarketoDate                    0.126667         0.345857       0.142048\n",
       "TotalFanaticsDollarValue             0.935556         0.951077       0.929556\n",
       "TotalFanaticsProductQty              0.935556         0.951077       0.929556\n",
       "TotalFanaticsTransactions            0.935556         0.951077       0.929556\n",
       "LatestFanaticsDate                   0.935556         0.951077       0.929556\n",
       "EarliestFanaticsDate                 0.935556         0.951077       0.929556\n",
       "secondary_purchase_dollars           0.961333         0.934228       0.886884\n",
       "secondary_purchase_tickets           0.961333         0.934228       0.886884\n",
       "secondary_purchase_transactions      0.961333         0.934228       0.886884\n",
       "EarliestYinzcamDate                  0.965333         0.915886       0.917509\n",
       "TotalYinzcamVolume                   0.965333         0.915886       0.917509\n",
       "LatestYinzcamDate                    0.965333         0.915886       0.917509\n",
       "secondary_sell_transactions          0.969778         0.938463       0.947603\n",
       "secondary_sell_dollars               0.969778         0.938463       0.947603\n",
       "secondary_sell_tickets               0.969778         0.938463       0.947603\n",
       "total_scanned                        0.972444         0.966071       0.942087"
      ]
     },
     "execution_count": 10,
     "metadata": {},
     "output_type": "execute_result"
    }
   ],
   "source": [
    "all_null.sort_values(by = 'STM_Pct_Null', ascending = True)"
   ]
  },
  {
   "cell_type": "code",
   "execution_count": 11,
   "metadata": {
    "scrolled": true
   },
   "outputs": [
    {
     "name": "stdout",
     "output_type": "stream",
     "text": [
      "EarliestFanaticsDate\n",
      "LatestFanaticsDate\n",
      "EarliestMarketoDate\n",
      "LatestMarketoDate\n",
      "EarliestSeatGeekDate\n",
      "LatestSeatGeekDate\n",
      "EarliestYinzcamDate\n",
      "LatestYinzcamDate\n"
     ]
    }
   ],
   "source": [
    "#DROP DATE COLUMNS\n",
    "for col in STM.columns:\n",
    "    if 'Date' in col:\n",
    "        print(col)\n",
    "        STM.drop([col], axis=1, inplace = True)\n",
    "        nonSTM.drop([col], axis=1, inplace = True)\n",
    "        lost.drop([col], axis=1, inplace = True)\n",
    "    else:\n",
    "        pass\n",
    "\n",
    "STM.drop(['EarliestCRM', 'LatestCRM'], axis=1, inplace = True)\n",
    "nonSTM.drop(['EarliestCRM', 'LatestCRM'], axis=1, inplace = True)\n",
    "lost.drop(['EarliestCRM', 'LatestCRM'], axis=1, inplace = True) "
   ]
  },
  {
   "cell_type": "code",
   "execution_count": 12,
   "metadata": {},
   "outputs": [
    {
     "name": "stdout",
     "output_type": "stream",
     "text": [
      "STM: 1.0\n",
      "nonSTM: 0.9986860678139172\n",
      "lost: 0.9980647346267357\n"
     ]
    }
   ],
   "source": [
    "#PERCENT OF ROWS WITH MISSING VALUES\n",
    "print(f\"STM: {(STM.shape[0] - STM.dropna().shape[0])/len(STM)}\")\n",
    "print(f\"nonSTM: {(nonSTM.shape[0] - nonSTM.dropna().shape[0])/len(nonSTM)}\")\n",
    "print(f\"lost: {(lost.shape[0] - lost.dropna().shape[0])/len(lost)}\")\n"
   ]
  },
  {
   "cell_type": "code",
   "execution_count": 13,
   "metadata": {},
   "outputs": [
    {
     "name": "stdout",
     "output_type": "stream",
     "text": [
      "STM: 1727\n",
      "nonSTM: 43191\n",
      "lost: 8815\n"
     ]
    }
   ],
   "source": [
    "#DROP COLUMNS\n",
    "columns = []\n",
    "for col in STM.columns:\n",
    "    if 'scanned' in col:\n",
    "        STM.drop([col], axis=1, inplace = True)\n",
    "        nonSTM.drop([col], axis=1, inplace = True)\n",
    "        lost.drop([col], axis=1, inplace = True)\n",
    "    elif 'secondary' in col:\n",
    "        STM.drop([col], axis=1, inplace = True)\n",
    "        nonSTM.drop([col], axis=1, inplace = True)\n",
    "        lost.drop([col], axis=1, inplace = True)\n",
    "    elif 'Yinz' in col:\n",
    "        STM.drop([col], axis=1, inplace = True)\n",
    "        nonSTM.drop([col], axis=1, inplace = True)\n",
    "        lost.drop([col], axis=1, inplace = True)\n",
    "    elif 'Fanatics' in col:\n",
    "        STM.drop([col], axis=1, inplace = True)\n",
    "        nonSTM.drop([col], axis=1, inplace = True)\n",
    "        lost.drop([col], axis=1, inplace = True)\n",
    "    else:\n",
    "        pass\n",
    "    \n",
    "#NUMBER OF ROWS WITH MISSING VALUES\n",
    "print(f\"STM: {(STM.dropna().shape[0])}\")\n",
    "print(f\"nonSTM: {(nonSTM.dropna().shape[0])}\")\n",
    "print(f\"lost: {(lost.dropna().shape[0])}\")"
   ]
  },
  {
   "cell_type": "code",
   "execution_count": 14,
   "metadata": {},
   "outputs": [
    {
     "data": {
      "image/png": "[encoded data removed]",
      "text/plain": [
       "<Figure size 1440x1080 with 12 Axes>"
      ]
     },
     "metadata": {
      "needs_background": "light"
     },
     "output_type": "display_data"
    }
   ],
   "source": [
    "ax = STM.hist(bins=30, grid=False, figsize=(20,15), color='#86bf91', zorder=2, rwidth=0.9)"
   ]
  },
  {
   "cell_type": "code",
   "execution_count": 15,
   "metadata": {},
   "outputs": [
    {
     "data": {
      "image/png": "[encoded data removed]",
      "text/plain": [
       "<Figure size 1440x1080 with 12 Axes>"
      ]
     },
     "metadata": {
      "needs_background": "light"
     },
     "output_type": "display_data"
    }
   ],
   "source": [
    "ax = nonSTM.hist(bins=30, grid=False, figsize=(20,15), color='#FFC733', zorder=2, rwidth=0.9)"
   ]
  },
  {
   "cell_type": "code",
   "execution_count": 16,
   "metadata": {
    "scrolled": false
   },
   "outputs": [
    {
     "data": {
      "image/png": "[encoded data removed]",
      "text/plain": [
       "<Figure size 1440x1080 with 12 Axes>"
      ]
     },
     "metadata": {
      "needs_background": "light"
     },
     "output_type": "display_data"
    }
   ],
   "source": [
    "ax = lost.hist(bins=30, grid=False, figsize=(20,15), color='#FF5733', zorder=2, rwidth=0.9)"
   ]
  },
  {
   "cell_type": "code",
   "execution_count": 17,
   "metadata": {},
   "outputs": [],
   "source": [
    "#STACK STM NONSTM, LOST\n",
    "\n",
    "STM['target'] = 'STM'\n",
    "lost['target'] = 'Rejecter'\n",
    "nonSTM['target'] = 'nonSTM'\n",
    "\n",
    "full_data = pd.concat([STM, nonSTM, lost])"
   ]
  },
  {
   "cell_type": "code",
   "execution_count": 18,
   "metadata": {},
   "outputs": [],
   "source": [
    "#STANDARDIZE FEATURES\n",
    "\n",
    "full_tmp = full_data.drop(['SSB_CRMSYSTEM_CONTACT_ID', 'target'], axis = 1).dropna()\n",
    "\n",
    "scaler = StandardScaler()\n",
    "scaler.fit(full_tmp)\n",
    "\n",
    "full_standardized  = pd.DataFrame(scaler.transform(full_tmp))"
   ]
  },
  {
   "cell_type": "code",
   "execution_count": 19,
   "metadata": {},
   "outputs": [
    {
     "data": {
      "text/plain": [
       "array([0.25, 0.44, 0.61, 0.71, 0.79, 0.85, 0.9 , 0.95, 0.98, 1.  ])"
      ]
     },
     "execution_count": 19,
     "metadata": {},
     "output_type": "execute_result"
    }
   ],
   "source": [
    "#PCA\n",
    "\n",
    "#PCA CLUSTERING\n",
    "np.set_printoptions(precision=2, suppress=True)\n",
    "\n",
    "#DECIDED ON # of Components = 2 to represent 29% of variance\n",
    "pca = PCA(n_components=10)\n",
    "pca.fit(full_standardized)\n",
    "np.cumsum(pca.explained_variance_/sum(pca.explained_variance_))"
   ]
  },
  {
   "cell_type": "code",
   "execution_count": 29,
   "metadata": {},
   "outputs": [
    {
     "data": {
      "text/html": [
       "<div>\n",
       "<style scoped>\n",
       "    .dataframe tbody tr th:only-of-type {\n",
       "        vertical-align: middle;\n",
       "    }\n",
       "\n",
       "    .dataframe tbody tr th {\n",
       "        vertical-align: top;\n",
       "    }\n",
       "\n",
       "    .dataframe thead th {\n",
       "        text-align: right;\n",
       "    }\n",
       "</style>\n",
       "<table border=\"1\" class=\"dataframe\">\n",
       "  <thead>\n",
       "    <tr style=\"text-align: right;\">\n",
       "      <th></th>\n",
       "      <th>Attribute</th>\n",
       "      <th>Description</th>\n",
       "    </tr>\n",
       "  </thead>\n",
       "  <tbody>\n",
       "    <tr>\n",
       "      <th>0</th>\n",
       "      <td>0</td>\n",
       "      <td>TotalCRMAcvtivty Volume</td>\n",
       "    </tr>\n",
       "    <tr>\n",
       "      <th>1</th>\n",
       "      <td>1</td>\n",
       "      <td>TotalMarketoVolume</td>\n",
       "    </tr>\n",
       "    <tr>\n",
       "      <th>2</th>\n",
       "      <td>2</td>\n",
       "      <td>primary_purchase_transactions</td>\n",
       "    </tr>\n",
       "    <tr>\n",
       "      <th>3</th>\n",
       "      <td>3</td>\n",
       "      <td>primary_purchase_dollars</td>\n",
       "    </tr>\n",
       "    <tr>\n",
       "      <th>4</th>\n",
       "      <td>4</td>\n",
       "      <td>primary_purchase_tickets</td>\n",
       "    </tr>\n",
       "    <tr>\n",
       "      <th>5</th>\n",
       "      <td>5</td>\n",
       "      <td>EarliestCRM_int</td>\n",
       "    </tr>\n",
       "    <tr>\n",
       "      <th>6</th>\n",
       "      <td>6</td>\n",
       "      <td>LatestCRM_int</td>\n",
       "    </tr>\n",
       "    <tr>\n",
       "      <th>7</th>\n",
       "      <td>7</td>\n",
       "      <td>LatestSeatGeek_int</td>\n",
       "    </tr>\n",
       "    <tr>\n",
       "      <th>8</th>\n",
       "      <td>8</td>\n",
       "      <td>EarliestSeatGeek_int</td>\n",
       "    </tr>\n",
       "    <tr>\n",
       "      <th>9</th>\n",
       "      <td>9</td>\n",
       "      <td>EarliestMarketo_int</td>\n",
       "    </tr>\n",
       "    <tr>\n",
       "      <th>10</th>\n",
       "      <td>10</td>\n",
       "      <td>LatestMarketo_int</td>\n",
       "    </tr>\n",
       "  </tbody>\n",
       "</table>\n",
       "</div>"
      ],
      "text/plain": [
       "   Attribute                    Description\n",
       "0          0        TotalCRMAcvtivty Volume\n",
       "1          1             TotalMarketoVolume\n",
       "2          2  primary_purchase_transactions\n",
       "3          3       primary_purchase_dollars\n",
       "4          4       primary_purchase_tickets\n",
       "5          5                EarliestCRM_int\n",
       "6          6                  LatestCRM_int\n",
       "7          7             LatestSeatGeek_int\n",
       "8          8           EarliestSeatGeek_int\n",
       "9          9            EarliestMarketo_int\n",
       "10        10              LatestMarketo_int"
      ]
     },
     "execution_count": 29,
     "metadata": {},
     "output_type": "execute_result"
    }
   ],
   "source": [
    "#BUILD ATTRIBUTES INFO FOR PCA INTERPRETATION\n",
    "\n",
    "attributes_info = pd.DataFrame(columns = ['Attribute', 'Description'])\n",
    "attributes_info = attributes_info.append({'Attribute':0, 'Description': 'TotalCRMAcvtivty Volume'}, ignore_index = True)\n",
    "attributes_info = attributes_info.append({'Attribute':1, 'Description': 'TotalMarketoVolume'}, ignore_index = True)\n",
    "attributes_info = attributes_info.append({'Attribute':2, 'Description': 'primary_purchase_transactions'}, ignore_index = True)\n",
    "attributes_info = attributes_info.append({'Attribute':3, 'Description': 'primary_purchase_dollars'}, ignore_index = True)\n",
    "attributes_info = attributes_info.append({'Attribute':4, 'Description': 'primary_purchase_tickets'}, ignore_index = True)\n",
    "attributes_info = attributes_info.append({'Attribute':5, 'Description': 'EarliestCRM_int'}, ignore_index = True)\n",
    "attributes_info = attributes_info.append({'Attribute':6, 'Description': 'LatestCRM_int'}, ignore_index = True)\n",
    "attributes_info = attributes_info.append({'Attribute':7, 'Description': 'LatestSeatGeek_int'}, ignore_index = True)\n",
    "attributes_info = attributes_info.append({'Attribute':8, 'Description': 'EarliestSeatGeek_int'}, ignore_index = True)\n",
    "attributes_info = attributes_info.append({'Attribute':9, 'Description': 'EarliestMarketo_int'}, ignore_index = True)\n",
    "attributes_info = attributes_info.append({'Attribute':10, 'Description': 'LatestMarketo_int'}, ignore_index = True)\n",
    "\n",
    "attributes_info"
   ]
  },
  {
   "cell_type": "code",
   "execution_count": 33,
   "metadata": {},
   "outputs": [],
   "source": [
    "#PCA\n",
    "\n",
    "def plot_feature_weights(df, pca, attributes_info, dimension, n_weights = 5, plot=True,figsize=(7,8)):\n",
    "    \"\"\"\n",
    "    This function displays interesting features of the selected dimension\n",
    "    \"\"\"\n",
    "    \n",
    "    features = df.columns.values\n",
    "    components = pca.components_\n",
    "    feature_weights = dict(zip(features, components[dimension]))\n",
    "    sorted_weights = sorted(feature_weights.items(), key = lambda kv: kv[1])\n",
    "    \n",
    "    feat_names = []\n",
    "    feat_weights = []\n",
    "    feat_descs = []\n",
    "\n",
    "    for feature, weight in sorted_weights[-n_weights:]:\n",
    "        feat_names.append(feature)\n",
    "        feat_weights.append(weight)\n",
    "        \n",
    "    for feature, weight, in sorted_weights[:n_weights]:\n",
    "        feat_names.append(feature)\n",
    "        feat_weights.append(weight)\n",
    "        \n",
    "    for feature in feat_names:\n",
    "        if feature in attributes_info.Attribute.values:\n",
    "            feat_descs.append(attributes_info[attributes_info.Attribute == feature].Description.values[0])\n",
    "        else:\n",
    "            feat_descs.append(\"No description given\")\n",
    "    \n",
    "    component_info = {\"Feature\":feat_names, \"Description\":feat_descs, \"FeatureWeight\":feat_weights}\n",
    "    component_info = pd.DataFrame(component_info)\n",
    "    component_info.sort_values(by =[\"FeatureWeight\"], inplace=True, ascending=False)\n",
    "           \n",
    "    if plot:\n",
    "        fig = plt.figure(figsize=figsize)\n",
    "\n",
    "        ax = fig.add_subplot(211)\n",
    "        ax.bar(feat_names, feat_weights)\n",
    "        ax.set_ylabel(\"Feature Weight\")\n",
    "        ax.set_xlabel(\"Feature Name\")\n",
    "        ax.set_title(\"PCA Feature weights - Component {}\".format(dimension))\n",
    "        for tick in ax.get_xticklabels():\n",
    "            tick.set_rotation(45)\n",
    "        ax.grid()\n",
    "\n",
    "        fig.tight_layout()\n",
    "        plt.show()\n",
    "    \n",
    "    return component_info"
   ]
  },
  {
   "cell_type": "code",
   "execution_count": 34,
   "metadata": {},
   "outputs": [
    {
     "data": {
      "image/png": "[encoded data removed]",
      "text/plain": [
       "<Figure size 504x576 with 1 Axes>"
      ]
     },
     "metadata": {
      "needs_background": "light"
     },
     "output_type": "display_data"
    },
    {
     "data": {
      "text/html": [
       "<div>\n",
       "<style scoped>\n",
       "    .dataframe tbody tr th:only-of-type {\n",
       "        vertical-align: middle;\n",
       "    }\n",
       "\n",
       "    .dataframe tbody tr th {\n",
       "        vertical-align: top;\n",
       "    }\n",
       "\n",
       "    .dataframe thead th {\n",
       "        text-align: right;\n",
       "    }\n",
       "</style>\n",
       "<table border=\"1\" class=\"dataframe\">\n",
       "  <thead>\n",
       "    <tr style=\"text-align: right;\">\n",
       "      <th></th>\n",
       "      <th>Feature</th>\n",
       "      <th>Description</th>\n",
       "      <th>FeatureWeight</th>\n",
       "    </tr>\n",
       "  </thead>\n",
       "  <tbody>\n",
       "    <tr>\n",
       "      <th>2</th>\n",
       "      <td>2</td>\n",
       "      <td>primary_purchase_transactions</td>\n",
       "      <td>0.423154</td>\n",
       "    </tr>\n",
       "    <tr>\n",
       "      <th>1</th>\n",
       "      <td>0</td>\n",
       "      <td>TotalCRMAcvtivty Volume</td>\n",
       "      <td>0.388494</td>\n",
       "    </tr>\n",
       "    <tr>\n",
       "      <th>0</th>\n",
       "      <td>1</td>\n",
       "      <td>TotalMarketoVolume</td>\n",
       "      <td>0.330946</td>\n",
       "    </tr>\n",
       "    <tr>\n",
       "      <th>5</th>\n",
       "      <td>8</td>\n",
       "      <td>EarliestSeatGeek_int</td>\n",
       "      <td>-0.260469</td>\n",
       "    </tr>\n",
       "    <tr>\n",
       "      <th>4</th>\n",
       "      <td>5</td>\n",
       "      <td>EarliestCRM_int</td>\n",
       "      <td>-0.412634</td>\n",
       "    </tr>\n",
       "    <tr>\n",
       "      <th>3</th>\n",
       "      <td>9</td>\n",
       "      <td>EarliestMarketo_int</td>\n",
       "      <td>-0.430973</td>\n",
       "    </tr>\n",
       "  </tbody>\n",
       "</table>\n",
       "</div>"
      ],
      "text/plain": [
       "   Feature                    Description  FeatureWeight\n",
       "2        2  primary_purchase_transactions       0.423154\n",
       "1        0        TotalCRMAcvtivty Volume       0.388494\n",
       "0        1             TotalMarketoVolume       0.330946\n",
       "5        8           EarliestSeatGeek_int      -0.260469\n",
       "4        5                EarliestCRM_int      -0.412634\n",
       "3        9            EarliestMarketo_int      -0.430973"
      ]
     },
     "execution_count": 34,
     "metadata": {},
     "output_type": "execute_result"
    }
   ],
   "source": [
    "component_0_info = plot_feature_weights(full_standardized, pca, attributes_info, 0, 3)\n",
    "component_0_info.head(10)"
   ]
  },
  {
   "cell_type": "code",
   "execution_count": 35,
   "metadata": {},
   "outputs": [
    {
     "data": {
      "image/png": "[encoded data removed]",
      "text/plain": [
       "<Figure size 504x576 with 1 Axes>"
      ]
     },
     "metadata": {
      "needs_background": "light"
     },
     "output_type": "display_data"
    },
    {
     "data": {
      "text/html": [
       "<div>\n",
       "<style scoped>\n",
       "    .dataframe tbody tr th:only-of-type {\n",
       "        vertical-align: middle;\n",
       "    }\n",
       "\n",
       "    .dataframe tbody tr th {\n",
       "        vertical-align: top;\n",
       "    }\n",
       "\n",
       "    .dataframe thead th {\n",
       "        text-align: right;\n",
       "    }\n",
       "</style>\n",
       "<table border=\"1\" class=\"dataframe\">\n",
       "  <thead>\n",
       "    <tr style=\"text-align: right;\">\n",
       "      <th></th>\n",
       "      <th>Feature</th>\n",
       "      <th>Description</th>\n",
       "      <th>FeatureWeight</th>\n",
       "    </tr>\n",
       "  </thead>\n",
       "  <tbody>\n",
       "    <tr>\n",
       "      <th>2</th>\n",
       "      <td>3</td>\n",
       "      <td>primary_purchase_dollars</td>\n",
       "      <td>0.458725</td>\n",
       "    </tr>\n",
       "    <tr>\n",
       "      <th>1</th>\n",
       "      <td>4</td>\n",
       "      <td>primary_purchase_tickets</td>\n",
       "      <td>0.451470</td>\n",
       "    </tr>\n",
       "    <tr>\n",
       "      <th>0</th>\n",
       "      <td>7</td>\n",
       "      <td>LatestSeatGeek_int</td>\n",
       "      <td>0.404068</td>\n",
       "    </tr>\n",
       "    <tr>\n",
       "      <th>5</th>\n",
       "      <td>6</td>\n",
       "      <td>LatestCRM_int</td>\n",
       "      <td>0.183492</td>\n",
       "    </tr>\n",
       "    <tr>\n",
       "      <th>4</th>\n",
       "      <td>1</td>\n",
       "      <td>TotalMarketoVolume</td>\n",
       "      <td>-0.039634</td>\n",
       "    </tr>\n",
       "    <tr>\n",
       "      <th>3</th>\n",
       "      <td>0</td>\n",
       "      <td>TotalCRMAcvtivty Volume</td>\n",
       "      <td>-0.078116</td>\n",
       "    </tr>\n",
       "  </tbody>\n",
       "</table>\n",
       "</div>"
      ],
      "text/plain": [
       "   Feature               Description  FeatureWeight\n",
       "2        3  primary_purchase_dollars       0.458725\n",
       "1        4  primary_purchase_tickets       0.451470\n",
       "0        7        LatestSeatGeek_int       0.404068\n",
       "5        6             LatestCRM_int       0.183492\n",
       "4        1        TotalMarketoVolume      -0.039634\n",
       "3        0   TotalCRMAcvtivty Volume      -0.078116"
      ]
     },
     "execution_count": 35,
     "metadata": {},
     "output_type": "execute_result"
    }
   ],
   "source": [
    "component_1_info = plot_feature_weights(full_standardized, pca, attributes_info, 1, 3)\n",
    "component_1_info.head(10)"
   ]
  },
  {
   "cell_type": "code",
   "execution_count": 36,
   "metadata": {},
   "outputs": [
    {
     "data": {
      "image/png": "[encoded data removed]",
      "text/plain": [
       "<Figure size 504x576 with 1 Axes>"
      ]
     },
     "metadata": {
      "needs_background": "light"
     },
     "output_type": "display_data"
    },
    {
     "data": {
      "text/html": [
       "<div>\n",
       "<style scoped>\n",
       "    .dataframe tbody tr th:only-of-type {\n",
       "        vertical-align: middle;\n",
       "    }\n",
       "\n",
       "    .dataframe tbody tr th {\n",
       "        vertical-align: top;\n",
       "    }\n",
       "\n",
       "    .dataframe thead th {\n",
       "        text-align: right;\n",
       "    }\n",
       "</style>\n",
       "<table border=\"1\" class=\"dataframe\">\n",
       "  <thead>\n",
       "    <tr style=\"text-align: right;\">\n",
       "      <th></th>\n",
       "      <th>Feature</th>\n",
       "      <th>Description</th>\n",
       "      <th>FeatureWeight</th>\n",
       "    </tr>\n",
       "  </thead>\n",
       "  <tbody>\n",
       "    <tr>\n",
       "      <th>2</th>\n",
       "      <td>4</td>\n",
       "      <td>primary_purchase_tickets</td>\n",
       "      <td>0.419898</td>\n",
       "    </tr>\n",
       "    <tr>\n",
       "      <th>1</th>\n",
       "      <td>3</td>\n",
       "      <td>primary_purchase_dollars</td>\n",
       "      <td>0.411409</td>\n",
       "    </tr>\n",
       "    <tr>\n",
       "      <th>0</th>\n",
       "      <td>9</td>\n",
       "      <td>EarliestMarketo_int</td>\n",
       "      <td>0.108666</td>\n",
       "    </tr>\n",
       "    <tr>\n",
       "      <th>5</th>\n",
       "      <td>8</td>\n",
       "      <td>EarliestSeatGeek_int</td>\n",
       "      <td>-0.283102</td>\n",
       "    </tr>\n",
       "    <tr>\n",
       "      <th>4</th>\n",
       "      <td>10</td>\n",
       "      <td>LatestMarketo_int</td>\n",
       "      <td>-0.400771</td>\n",
       "    </tr>\n",
       "    <tr>\n",
       "      <th>3</th>\n",
       "      <td>7</td>\n",
       "      <td>LatestSeatGeek_int</td>\n",
       "      <td>-0.445024</td>\n",
       "    </tr>\n",
       "  </tbody>\n",
       "</table>\n",
       "</div>"
      ],
      "text/plain": [
       "   Feature               Description  FeatureWeight\n",
       "2        4  primary_purchase_tickets       0.419898\n",
       "1        3  primary_purchase_dollars       0.411409\n",
       "0        9       EarliestMarketo_int       0.108666\n",
       "5        8      EarliestSeatGeek_int      -0.283102\n",
       "4       10         LatestMarketo_int      -0.400771\n",
       "3        7        LatestSeatGeek_int      -0.445024"
      ]
     },
     "execution_count": 36,
     "metadata": {},
     "output_type": "execute_result"
    }
   ],
   "source": [
    "component_2_info = plot_feature_weights(full_standardized, pca, attributes_info, 2, 3)\n",
    "component_2_info.head(10)"
   ]
  },
  {
   "cell_type": "code",
   "execution_count": 37,
   "metadata": {},
   "outputs": [
    {
     "data": {
      "image/png": "[encoded data removed]",
      "text/plain": [
       "<Figure size 504x576 with 1 Axes>"
      ]
     },
     "metadata": {
      "needs_background": "light"
     },
     "output_type": "display_data"
    },
    {
     "data": {
      "text/html": [
       "<div>\n",
       "<style scoped>\n",
       "    .dataframe tbody tr th:only-of-type {\n",
       "        vertical-align: middle;\n",
       "    }\n",
       "\n",
       "    .dataframe tbody tr th {\n",
       "        vertical-align: top;\n",
       "    }\n",
       "\n",
       "    .dataframe thead th {\n",
       "        text-align: right;\n",
       "    }\n",
       "</style>\n",
       "<table border=\"1\" class=\"dataframe\">\n",
       "  <thead>\n",
       "    <tr style=\"text-align: right;\">\n",
       "      <th></th>\n",
       "      <th>Feature</th>\n",
       "      <th>Description</th>\n",
       "      <th>FeatureWeight</th>\n",
       "    </tr>\n",
       "  </thead>\n",
       "  <tbody>\n",
       "    <tr>\n",
       "      <th>2</th>\n",
       "      <td>8</td>\n",
       "      <td>EarliestSeatGeek_int</td>\n",
       "      <td>0.331380</td>\n",
       "    </tr>\n",
       "    <tr>\n",
       "      <th>1</th>\n",
       "      <td>7</td>\n",
       "      <td>LatestSeatGeek_int</td>\n",
       "      <td>0.272288</td>\n",
       "    </tr>\n",
       "    <tr>\n",
       "      <th>0</th>\n",
       "      <td>10</td>\n",
       "      <td>LatestMarketo_int</td>\n",
       "      <td>0.043015</td>\n",
       "    </tr>\n",
       "    <tr>\n",
       "      <th>5</th>\n",
       "      <td>0</td>\n",
       "      <td>TotalCRMAcvtivty Volume</td>\n",
       "      <td>-0.266382</td>\n",
       "    </tr>\n",
       "    <tr>\n",
       "      <th>4</th>\n",
       "      <td>5</td>\n",
       "      <td>EarliestCRM_int</td>\n",
       "      <td>-0.331104</td>\n",
       "    </tr>\n",
       "    <tr>\n",
       "      <th>3</th>\n",
       "      <td>6</td>\n",
       "      <td>LatestCRM_int</td>\n",
       "      <td>-0.772825</td>\n",
       "    </tr>\n",
       "  </tbody>\n",
       "</table>\n",
       "</div>"
      ],
      "text/plain": [
       "   Feature              Description  FeatureWeight\n",
       "2        8     EarliestSeatGeek_int       0.331380\n",
       "1        7       LatestSeatGeek_int       0.272288\n",
       "0       10        LatestMarketo_int       0.043015\n",
       "5        0  TotalCRMAcvtivty Volume      -0.266382\n",
       "4        5          EarliestCRM_int      -0.331104\n",
       "3        6            LatestCRM_int      -0.772825"
      ]
     },
     "execution_count": 37,
     "metadata": {},
     "output_type": "execute_result"
    }
   ],
   "source": [
    "component_3_info = plot_feature_weights(full_standardized, pca, attributes_info, 3, 3)\n",
    "component_3_info.head(10)"
   ]
  },
  {
   "cell_type": "code",
   "execution_count": 80,
   "metadata": {},
   "outputs": [
    {
     "name": "stdout",
     "output_type": "stream",
     "text": [
      "For n_clusters = 2 The average silhouette_score is : 0.30267032768526003\n",
      "For n_clusters = 3 The average silhouette_score is : 0.2652116752960439\n",
      "For n_clusters = 4 The average silhouette_score is : 0.27518853084471645\n",
      "For n_clusters = 5 The average silhouette_score is : 0.27669300226801596\n",
      "For n_clusters = 6 The average silhouette_score is : 0.2915283654266075\n",
      "For n_clusters = 7 The average silhouette_score is : 0.22118364996734213\n",
      "For n_clusters = 8 The average silhouette_score is : 0.22144226895486865\n",
      "For n_clusters = 9 The average silhouette_score is : 0.2235340107678705\n"
     ]
    },
    {
     "data": {
      "image/png": "[encoded data removed]",
      "text/plain": [
       "<Figure size 432x288 with 1 Axes>"
      ]
     },
     "metadata": {
      "needs_background": "light"
     },
     "output_type": "display_data"
    }
   ],
   "source": [
    "##STM CLUSTERING\n",
    "\n",
    "df = STM.drop(['SSB_CRMSYSTEM_CONTACT_ID', 'target'], axis = 1).dropna()\n",
    "stm_standardized  = pd.DataFrame(scaler.transform(df))\n",
    "stm_pca = pca.transform(stm_standardized)\n",
    "\n",
    "\n",
    "Sum_of_squared_distances = []\n",
    "K = range(2,10)\n",
    "for k in K:\n",
    "    km = cluster.KMeans(n_clusters=k)\n",
    "    km = km.fit(stm_pca)\n",
    "    Sum_of_squared_distances.append(km.inertia_)\n",
    "    cluster_labels = km.labels_\n",
    "    silhouette_avg = silhouette_score(stm_pca, cluster_labels)\n",
    "    print(\"For n_clusters =\", k,\n",
    "          \"The average silhouette_score is :\", silhouette_avg)\n",
    "    \n",
    "plt.plot(K, Sum_of_squared_distances, 'bx-')\n",
    "plt.xlabel('k')\n",
    "plt.ylabel('Sum_of_squared_distances')\n",
    "plt.title('Elbow Method For Optimal k')\n",
    "plt.show()"
   ]
  },
  {
   "cell_type": "code",
   "execution_count": 81,
   "metadata": {},
   "outputs": [
    {
     "data": {
      "text/plain": [
       "2    687\n",
       "1    435\n",
       "3    211\n",
       "5    203\n",
       "0    117\n",
       "4     74\n",
       "Name: Cluster, dtype: int64"
      ]
     },
     "execution_count": 81,
     "metadata": {},
     "output_type": "execute_result"
    }
   ],
   "source": [
    "##STM CLUSTERING \n",
    "k = 6\n",
    "stm_kmeans = cluster.KMeans(n_clusters=k)\n",
    "stm_kmeans.fit(stm_pca)\n",
    "\n",
    "train_labels = stm_kmeans.predict(stm_pca)\n",
    "stm_pred  = pd.DataFrame(stm_pca)\n",
    "stm_pred['Cluster'] = train_labels\n",
    "stm_pred['Cluster'].value_counts()"
   ]
  },
  {
   "cell_type": "code",
   "execution_count": 82,
   "metadata": {},
   "outputs": [
    {
     "data": {
      "text/plain": [
       "5    29326\n",
       "3    12039\n",
       "4      877\n",
       "1      583\n",
       "2      211\n",
       "0      155\n",
       "Name: Cluster_STM, dtype: int64"
      ]
     },
     "execution_count": 82,
     "metadata": {},
     "output_type": "execute_result"
    }
   ],
   "source": [
    "##APPLY STM CLUSTERING to NONSTM\n",
    "df = nonSTM.drop(['SSB_CRMSYSTEM_CONTACT_ID', 'target'], axis = 1).dropna()\n",
    "nonstm_standardized  = pd.DataFrame(scaler.transform(df))\n",
    "nonstm_pca = pca.transform(nonstm_standardized)\n",
    "\n",
    "train_labels = stm_kmeans.predict(nonstm_pca)\n",
    "nonstm_pred  = pd.DataFrame(nonstm_pca)\n",
    "nonstm_pred['Cluster_STM'] = train_labels\n",
    "nonstm_pred['Cluster_STM'].value_counts()"
   ]
  },
  {
   "cell_type": "code",
   "execution_count": 83,
   "metadata": {},
   "outputs": [
    {
     "name": "stdout",
     "output_type": "stream",
     "text": [
      "For n_clusters = 2 The average silhouette_score is : 0.2252842188311096\n",
      "For n_clusters = 3 The average silhouette_score is : 0.2258041316761839\n",
      "For n_clusters = 4 The average silhouette_score is : 0.25148260986571347\n",
      "For n_clusters = 5 The average silhouette_score is : 0.24290433876648485\n",
      "For n_clusters = 6 The average silhouette_score is : 0.2385907867607843\n",
      "For n_clusters = 7 The average silhouette_score is : 0.24535008092620483\n",
      "For n_clusters = 8 The average silhouette_score is : 0.2505915191154965\n",
      "For n_clusters = 9 The average silhouette_score is : 0.22861386045480683\n"
     ]
    },
    {
     "data": {
      "image/png": "[encoded data removed]",
      "text/plain": [
       "<Figure size 432x288 with 1 Axes>"
      ]
     },
     "metadata": {
      "needs_background": "light"
     },
     "output_type": "display_data"
    }
   ],
   "source": [
    "##LOST CLUSTERING\n",
    "\n",
    "df = lost.drop(['SSB_CRMSYSTEM_CONTACT_ID', 'target'], axis = 1).dropna()\n",
    "lost_standardized  = pd.DataFrame(scaler.transform(df))\n",
    "lost_pca = pca.transform(lost_standardized)\n",
    "\n",
    "Sum_of_squared_distances = []\n",
    "K = range(2,10)\n",
    "for k in K:\n",
    "    km = cluster.KMeans(n_clusters=k)\n",
    "    km = km.fit(lost_pca)\n",
    "    Sum_of_squared_distances.append(km.inertia_)\n",
    "    cluster_labels = km.labels_\n",
    "    silhouette_avg = silhouette_score(lost_pca, cluster_labels)\n",
    "    print(\"For n_clusters =\", k,\n",
    "          \"The average silhouette_score is :\", silhouette_avg)\n",
    "    \n",
    "plt.plot(K, Sum_of_squared_distances, 'bx-')\n",
    "plt.xlabel('k')\n",
    "plt.ylabel('Sum_of_squared_distances')\n",
    "plt.title('Elbow Method For Optimal k')\n",
    "plt.show()"
   ]
  },
  {
   "cell_type": "code",
   "execution_count": 84,
   "metadata": {},
   "outputs": [
    {
     "data": {
      "text/plain": [
       "1    8302\n",
       "3     238\n",
       "0     124\n",
       "2     116\n",
       "4      35\n",
       "Name: Cluster, dtype: int64"
      ]
     },
     "execution_count": 84,
     "metadata": {},
     "output_type": "execute_result"
    }
   ],
   "source": [
    "##LOST CLUSTERING \n",
    "k = 5\n",
    "lost_kmeans = cluster.KMeans(n_clusters=k)\n",
    "lost_kmeans.fit(stm_pca)\n",
    "\n",
    "train_labels = lost_kmeans.predict(lost_pca)\n",
    "lost_pred  = pd.DataFrame(lost_pca)\n",
    "lost_pred['Cluster'] = train_labels\n",
    "lost_pred['Cluster'].value_counts()"
   ]
  },
  {
   "cell_type": "code",
   "execution_count": 85,
   "metadata": {},
   "outputs": [
    {
     "data": {
      "text/plain": [
       "1    41103\n",
       "3      889\n",
       "0      600\n",
       "2      442\n",
       "4      157\n",
       "Name: Cluster_lost, dtype: int64"
      ]
     },
     "execution_count": 85,
     "metadata": {},
     "output_type": "execute_result"
    }
   ],
   "source": [
    "##APPLY LOST CLUSTERING to NONSTM\n",
    "df = nonSTM.drop(['SSB_CRMSYSTEM_CONTACT_ID', 'target'], axis = 1).dropna()\n",
    "nonstm_standardized  = pd.DataFrame(scaler.transform(df))\n",
    "nonstm_pca = pca.transform(nonstm_standardized)\n",
    "\n",
    "train_labels = lost_kmeans.predict(nonstm_pca)\n",
    "#nonstm_pred  = pd.DataFrame(nonstm_pca)\n",
    "nonstm_pred['Cluster_lost'] = train_labels\n",
    "nonstm_pred['Cluster_lost'].value_counts()"
   ]
  },
  {
   "cell_type": "code",
   "execution_count": 86,
   "metadata": {},
   "outputs": [],
   "source": [
    "cluster_info = pd.DataFrame([])\n",
    "\n",
    "cluster_info[\"STM\"] = stm_pred['Cluster'].value_counts().sort_index()\n",
    "cluster_info[\"Population_STM\"] = nonstm_pred['Cluster_STM'].value_counts().sort_index()\n",
    "cluster_info[\"Lost\"] = lost_pred['Cluster'].value_counts().sort_index()\n",
    "cluster_info[\"Population_Lost\"] = nonstm_pred['Cluster_lost'].value_counts().sort_index()\n",
    "cluster_info.reset_index(inplace=True)\n",
    "cluster_info.rename(columns={\"index\":\"Cluster\"}, inplace=True)"
   ]
  },
  {
   "cell_type": "code",
   "execution_count": 87,
   "metadata": {},
   "outputs": [
    {
     "data": {
      "text/html": [
       "<div>\n",
       "<style scoped>\n",
       "    .dataframe tbody tr th:only-of-type {\n",
       "        vertical-align: middle;\n",
       "    }\n",
       "\n",
       "    .dataframe tbody tr th {\n",
       "        vertical-align: top;\n",
       "    }\n",
       "\n",
       "    .dataframe thead th {\n",
       "        text-align: right;\n",
       "    }\n",
       "</style>\n",
       "<table border=\"1\" class=\"dataframe\">\n",
       "  <thead>\n",
       "    <tr style=\"text-align: right;\">\n",
       "      <th></th>\n",
       "      <th>Cluster</th>\n",
       "      <th>STM</th>\n",
       "      <th>Population_STM</th>\n",
       "      <th>Lost</th>\n",
       "      <th>Population_Lost</th>\n",
       "    </tr>\n",
       "  </thead>\n",
       "  <tbody>\n",
       "    <tr>\n",
       "      <th>0</th>\n",
       "      <td>0</td>\n",
       "      <td>117</td>\n",
       "      <td>155</td>\n",
       "      <td>124.0</td>\n",
       "      <td>600.0</td>\n",
       "    </tr>\n",
       "    <tr>\n",
       "      <th>1</th>\n",
       "      <td>1</td>\n",
       "      <td>435</td>\n",
       "      <td>583</td>\n",
       "      <td>8302.0</td>\n",
       "      <td>41103.0</td>\n",
       "    </tr>\n",
       "    <tr>\n",
       "      <th>2</th>\n",
       "      <td>2</td>\n",
       "      <td>687</td>\n",
       "      <td>211</td>\n",
       "      <td>116.0</td>\n",
       "      <td>442.0</td>\n",
       "    </tr>\n",
       "    <tr>\n",
       "      <th>3</th>\n",
       "      <td>3</td>\n",
       "      <td>211</td>\n",
       "      <td>12039</td>\n",
       "      <td>238.0</td>\n",
       "      <td>889.0</td>\n",
       "    </tr>\n",
       "    <tr>\n",
       "      <th>4</th>\n",
       "      <td>4</td>\n",
       "      <td>74</td>\n",
       "      <td>877</td>\n",
       "      <td>35.0</td>\n",
       "      <td>157.0</td>\n",
       "    </tr>\n",
       "    <tr>\n",
       "      <th>5</th>\n",
       "      <td>5</td>\n",
       "      <td>203</td>\n",
       "      <td>29326</td>\n",
       "      <td>NaN</td>\n",
       "      <td>NaN</td>\n",
       "    </tr>\n",
       "  </tbody>\n",
       "</table>\n",
       "</div>"
      ],
      "text/plain": [
       "   Cluster  STM  Population_STM    Lost  Population_Lost\n",
       "0        0  117             155   124.0            600.0\n",
       "1        1  435             583  8302.0          41103.0\n",
       "2        2  687             211   116.0            442.0\n",
       "3        3  211           12039   238.0            889.0\n",
       "4        4   74             877    35.0            157.0\n",
       "5        5  203           29326     NaN              NaN"
      ]
     },
     "execution_count": 87,
     "metadata": {},
     "output_type": "execute_result"
    }
   ],
   "source": [
    "cluster_info\n"
   ]
  },
  {
   "cell_type": "code",
   "execution_count": 90,
   "metadata": {},
   "outputs": [
    {
     "data": {
      "image/png": "[encoded data removed]",
      "text/plain": [
       "<Figure size 720x288 with 2 Axes>"
      ]
     },
     "metadata": {
      "needs_background": "light"
     },
     "output_type": "display_data"
    }
   ],
   "source": [
    "fig, (ax1, ax2) = plt.subplots(1,2, figsize=(10, 4))\n",
    "\n",
    "ax1.bar(cluster_info[\"Cluster\"], cluster_info[\"Population_STM\"])\n",
    "ax1.set_xlabel(\"Cluster\")\n",
    "ax1.set_ylabel(\"No. of People\")\n",
    "ax1.set_title(\"General Population\")\n",
    "\n",
    "ax2.bar(cluster_info[\"Cluster\"], cluster_info[\"STM\"])\n",
    "ax2.set_xlabel(\"Cluster\")\n",
    "ax2.set_ylabel(\"No. of People\")\n",
    "ax2.set_title(\"STM Customers\")\n",
    "\n",
    "fig.suptitle(\"Cluster Distributions\")\n",
    "fig.tight_layout(rect=[0, 0.03, 1, 0.95])\n",
    "plt.show()"
   ]
  },
  {
   "cell_type": "code",
   "execution_count": 91,
   "metadata": {},
   "outputs": [
    {
     "data": {
      "image/png": "[encoded data removed]",
      "text/plain": [
       "<Figure size 720x288 with 2 Axes>"
      ]
     },
     "metadata": {
      "needs_background": "light"
     },
     "output_type": "display_data"
    }
   ],
   "source": [
    "fig, (ax1, ax2) = plt.subplots(1,2, figsize=(10, 4))\n",
    "\n",
    "ax1.bar(cluster_info[\"Cluster\"], cluster_info[\"Population_Lost\"])\n",
    "ax1.set_xlabel(\"Cluster\")\n",
    "ax1.set_ylabel(\"No. of People\")\n",
    "ax1.set_title(\"General Population\")\n",
    "\n",
    "ax2.bar(cluster_info[\"Cluster\"], cluster_info[\"Lost\"])\n",
    "ax2.set_xlabel(\"Cluster\")\n",
    "ax2.set_ylabel(\"No. of People\")\n",
    "ax2.set_title(\"Lost Customers\")\n",
    "\n",
    "fig.suptitle(\"Cluster Distributions\")\n",
    "fig.tight_layout(rect=[0, 0.03, 1, 0.95])\n",
    "plt.show()"
   ]
  },
  {
   "cell_type": "code",
   "execution_count": null,
   "metadata": {},
   "outputs": [],
   "source": []
  }
 ],
 "metadata": {
  "kernelspec": {
   "display_name": "Python 3",
   "language": "python",
   "name": "python3"
  },
  "language_info": {
   "codemirror_mode": {
    "name": "ipython",
    "version": 3
   },
   "file_extension": ".py",
   "mimetype": "text/x-python",
   "name": "python",
   "nbconvert_exporter": "python",
   "pygments_lexer": "ipython3",
   "version": "3.6.0"
  }
 },
 "nbformat": 4,
 "nbformat_minor": 2
}
